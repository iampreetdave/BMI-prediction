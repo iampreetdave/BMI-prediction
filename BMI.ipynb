{
 "cells": [
  {
   "cell_type": "code",
   "execution_count": null,
   "id": "eef3c73f-3ca8-453c-9f74-1636941796a5",
   "metadata": {},
   "outputs": [],
   "source": [
    "# Idea: BMI Calculator\n",
    "\n",
    "# Project Description:\n",
    "\n",
    "# For Beginners: Create a command-line BMI calculator in Python. Prompt users for their weight (in kilograms) and height (in meters). Calculate the BMI and classify it into categories (e.g., underweight, normal, overweight) based on predefined ranges. Display the BMI result and category to the user.\n",
    "\n",
    "\n",
    "# For Advanced: Develop a graphical BMI calculator with a user-friendly interface (GUI) using libraries like Tkinter or PyQt. Allow users to input weight and height, calculate BMI, and visualize the result. Enable data storage for multiple users, historical data viewing, and BMI trend analysis through statistics and graphs.\n",
    "\n",
    "\n",
    "# Key Concepts and Challenges:\n",
    "\n",
    "# User Input Validation: Ensure valid user inputs within reasonable ranges and handle errors gracefully.\n",
    "\n",
    "# BMI Calculation: Accurately implement the BMI formula.\n",
    "\n",
    "# Categorization: Classify BMI values into health categories based on predefined ranges.\n",
    "\n",
    "# GUI Design (for Advanced): Create an intuitive interface with labels, input fields, and result displays.\n",
    "\n",
    "# Data Storage (for Advanced): Implement user data storage, possibly using file storage or a small database.\n",
    "\n",
    "# Data Visualization (for Advanced): Visualize historical BMI data with graphs or charts.\n",
    "\n",
    "# Error Handling (for Advanced): Address potential issues with data storage or retrieval.\n",
    "\n",
    "# User Experience (for Advanced): Ensure a responsive and user-friendly GUI with clear instructions and feedback."
   ]
  },
  {
   "cell_type": "code",
   "execution_count": 8,
   "id": "e64f6fbf-4dcd-4bf3-bfa9-c6772ad3c42c",
   "metadata": {},
   "outputs": [
    {
     "name": "stdin",
     "output_type": "stream",
     "text": [
      "Enter your weight in kg:  72\n",
      "Enter your height in cm:  172\n",
      "Are you Asian or South Asian? (yes/no):  yes\n"
     ]
    },
    {
     "name": "stdout",
     "output_type": "stream",
     "text": [
      "Your BMI is 24.34\n",
      "Category: Overweight (Asian range)\n"
     ]
    }
   ],
   "source": [
    "try:\n",
    "    weight = float(input(\"Enter your weight in kg: \"))\n",
    "    h = float(input(\"Enter your height in cm: \"))\n",
    "    asian = input(\"Are you Asian or South Asian? (yes/no): \").strip().lower()\n",
    "    height=h/100\n",
    "    if weight <= 0 or height <= 0:\n",
    "        print(\"Error: Weight and height must be positive numbers.\")\n",
    "    else:\n",
    "        bmi = weight / (height ** 2)\n",
    "        print(f\"Your BMI is {bmi:.2f}\")\n",
    "\n",
    "        # Asian/South Asian ranges\n",
    "        if asian == \"yes\":\n",
    "            if bmi < 18.5:\n",
    "                category = \"Underweight\"\n",
    "            elif 18.5 <= bmi < 23:\n",
    "                category = \"Normal weight\"\n",
    "            elif 23 <= bmi < 25:\n",
    "                category = \"Overweight (Asian range)\"\n",
    "            else:\n",
    "                category = \"Obese (Asian range)\"\n",
    "        \n",
    "        # Standard ranges\n",
    "        else:\n",
    "            if bmi < 16.5:\n",
    "                category = \"Severely underweight\"\n",
    "            elif bmi < 18.5:\n",
    "                category = \"Underweight\"\n",
    "            elif bmi < 25:\n",
    "                category = \"Normal weight\"\n",
    "            elif bmi < 30:\n",
    "                category = \"Overweight\"\n",
    "            elif bmi < 35:\n",
    "                category = \"Obesity Class I\"\n",
    "            elif bmi < 40:\n",
    "                category = \"Obesity Class II\"\n",
    "            else:\n",
    "                category = \"Obesity Class III\"\n",
    "        \n",
    "        print(f\"Category: {category}\")\n",
    "\n",
    "except ValueError:\n",
    "    print(\"Invalid input. Please enter numbers only.\")\n"
   ]
  },
  {
   "cell_type": "code",
   "execution_count": 2,
   "id": "0c2539d1-d0c0-42f5-a40b-b3978b2fc961",
   "metadata": {},
   "outputs": [
    {
     "name": "stdout",
     "output_type": "stream",
     "text": [
      " KNN Model Accuracy: 0.93\n",
      "Example: Height=175cm, Weight=70kg → 2\n"
     ]
    },
    {
     "name": "stderr",
     "output_type": "stream",
     "text": [
      "C:\\Users\\PREET\\anaconda3\\Lib\\site-packages\\sklearn\\base.py:493: UserWarning: X does not have valid feature names, but KNeighborsClassifier was fitted with feature names\n",
      "  warnings.warn(\n"
     ]
    }
   ],
   "source": [
    "# ------------------------------\n",
    "# KNN for BMI Classification\n",
    "# ------------------------------\n",
    "\n",
    "import pandas as pd\n",
    "from sklearn.preprocessing import LabelEncoder\n",
    "from sklearn.model_selection import train_test_split\n",
    "from sklearn.neighbors import KNeighborsClassifier\n",
    "from sklearn.metrics import accuracy_score\n",
    "\n",
    "#  Load dataset\n",
    "df = pd.read_csv(\"bmi.csv\")\n",
    "\n",
    "# Separate features (X) and target (y)\n",
    "X = df[['Height', 'Weight']]  # Features\n",
    "y = df['Index']               # Target category\n",
    "\n",
    "#  Encode target labels (e.g., \"Normal\" → 0, \"Overweight\" → 1, etc.)\n",
    "label_encoder = LabelEncoder()\n",
    "y_encoded = label_encoder.fit_transform(y)\n",
    "\n",
    "# Train-test split\n",
    "X_train, X_test, y_train, y_test = train_test_split(\n",
    "    X, y_encoded, test_size=0.2, random_state=42\n",
    ")\n",
    "\n",
    "# Create & train the KNN model\n",
    "knn = KNeighborsClassifier(n_neighbors=5)\n",
    "knn.fit(X_train, y_train)\n",
    "\n",
    "# Make predictions\n",
    "y_pred = knn.predict(X_test)\n",
    "\n",
    "# Evaluate accuracy\n",
    "accuracy = accuracy_score(y_test, y_pred)\n",
    "print(f\" KNN Model Accuracy: {accuracy:.2f}\")\n",
    "\n",
    "\n",
    "# Example prediction\n",
    "example_height = 175\n",
    "example_weight = 70\n",
    "predicted_class = knn.predict([[example_height, example_weight]])[0]\n",
    "predicted_label = label_encoder.inverse_transform([predicted_class])[0]\n",
    "print(f\"Example: Height={example_height}cm, Weight={example_weight}kg → {predicted_label}\")\n"
   ]
  },
  {
   "cell_type": "code",
   "execution_count": 3,
   "id": "bed8b9a5-50a4-4c44-9aff-3e1c3f2712e0",
   "metadata": {},
   "outputs": [
    {
     "data": {
      "text/plain": [
       "['label_encoder_BMI.pkl']"
      ]
     },
     "execution_count": 3,
     "metadata": {},
     "output_type": "execute_result"
    }
   ],
   "source": [
    "# Save the trained model & encoder for later use\n",
    "import joblib\n",
    "\n",
    "joblib.dump(knn, \"knn_bmi.pkl\")\n",
    "joblib.dump(label_encoder, \"label_encoder_BMI.pkl\")\n"
   ]
  },
  {
   "cell_type": "code",
   "execution_count": null,
   "id": "7cb1c017-07ee-4a07-b81e-b61d2b8d6864",
   "metadata": {},
   "outputs": [],
   "source": []
  },
  {
   "cell_type": "code",
   "execution_count": null,
   "id": "84a7add0-bd76-4688-ad0b-e7de216d676d",
   "metadata": {},
   "outputs": [],
   "source": []
  }
 ],
 "metadata": {
  "kernelspec": {
   "display_name": "Python 3 (ipykernel)",
   "language": "python",
   "name": "python3"
  },
  "language_info": {
   "codemirror_mode": {
    "name": "ipython",
    "version": 3
   },
   "file_extension": ".py",
   "mimetype": "text/x-python",
   "name": "python",
   "nbconvert_exporter": "python",
   "pygments_lexer": "ipython3",
   "version": "3.12.7"
  }
 },
 "nbformat": 4,
 "nbformat_minor": 5
}
